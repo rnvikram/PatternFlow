{
  "nbformat": 4,
  "nbformat_minor": 0,
  "metadata": {
    "colab": {
      "name": "rescale_tf_implementation.ipynb",
      "provenance": [],
      "collapsed_sections": []
    },
    "kernelspec": {
      "name": "python3",
      "display_name": "Python 3"
    }
  },
  "cells": [
    {
      "cell_type": "code",
      "metadata": {
        "id": "HB05CcLpOenO",
        "colab_type": "code",
        "colab": {}
      },
      "source": [
        "import numpy as np\n",
        "import tensorflow as tf\n",
        "from skimage.exposure import rescale_intensity"
      ],
      "execution_count": 0,
      "outputs": []
    },
    {
      "cell_type": "code",
      "metadata": {
        "id": "u-7J48yFcTna",
        "colab_type": "code",
        "outputId": "b102aef6-ea2b-4caa-8490-4e650b449591",
        "colab": {
          "base_uri": "https://localhost:8080/",
          "height": 252
        }
      },
      "source": [
        "_integer_types = (np.byte, np.ubyte,          # 8 bits\n",
        "                  np.short, np.ushort,        # 16 bits\n",
        "                  np.intc, np.uintc,          # 16 or 32 or 64 bits\n",
        "                  np.int_, np.uint,           # 32 or 64 bits\n",
        "                  np.longlong, np.ulonglong)  # 64 bits\n",
        "_integer_ranges = {t: (np.iinfo(t).min, np.iinfo(t).max)\n",
        "                   for t in _integer_types}\n",
        "dtype_range = {np.bool_: (False, True),\n",
        "               np.bool8: (False, True),\n",
        "               np.float16: (-1, 1),\n",
        "               np.float32: (-1, 1),\n",
        "               np.float64: (-1, 1)}\n",
        "dtype_range.update(_integer_ranges)\n",
        "dtype_range"
      ],
      "execution_count": 0,
      "outputs": [
        {
          "output_type": "execute_result",
          "data": {
            "text/plain": [
              "{numpy.bool_: (False, True),\n",
              " numpy.float16: (-1, 1),\n",
              " numpy.float32: (-1, 1),\n",
              " numpy.float64: (-1, 1),\n",
              " numpy.int16: (-32768, 32767),\n",
              " numpy.int32: (-2147483648, 2147483647),\n",
              " numpy.int64: (-9223372036854775808, 9223372036854775807),\n",
              " numpy.int64: (-9223372036854775808, 9223372036854775807),\n",
              " numpy.int8: (-128, 127),\n",
              " numpy.uint16: (0, 65535),\n",
              " numpy.uint32: (0, 4294967295),\n",
              " numpy.uint64: (0, 18446744073709551615),\n",
              " numpy.uint64: (0, 18446744073709551615),\n",
              " numpy.uint8: (0, 255)}"
            ]
          },
          "metadata": {
            "tags": []
          },
          "execution_count": 4
        }
      ]
    },
    {
      "cell_type": "code",
      "metadata": {
        "id": "KrxefIQec0Lt",
        "colab_type": "code",
        "colab": {}
      },
      "source": [
        "#_integer_ranges = {t: (t.min, t.max)\n",
        "#                   for t in _integer_types}\n",
        "integer_ranges={\n",
        " \"<dtype: 'float16'>\": (-1, 1),\n",
        " \"<dtype: 'float32'>\": (-3.4028235e+38, 3.4028235e+38),\n",
        " \"<dtype: 'float64'>\": (-1.7976931348623157e+308, 1.7976931348623157e+308),\n",
        " \"<dtype: 'int16'>\": (-32768, 32767),\n",
        " \"<dtype: 'int32'>\": (-2147483648, 2147483647),\n",
        " \"<dtype: 'int64'>\": (-9223372036854775808, 9223372036854775807),\n",
        " \"<dtype: 'int8'>\": (-128, 127),\n",
        " \"<dtype: 'uint16'>\": (0, 65535),\n",
        " \"<dtype: 'uint32'>\": (0, 4294967295),\n",
        " \"<dtype: 'uint64'>\": (0, 18446744073709551615),\n",
        " \"<dtype: 'uint8'>\": (0, 255)}"
      ],
      "execution_count": 0,
      "outputs": []
    },
    {
      "cell_type": "code",
      "metadata": {
        "id": "HYK85us0arDN",
        "colab_type": "code",
        "colab": {}
      },
      "source": [
        ""
      ],
      "execution_count": 0,
      "outputs": []
    },
    {
      "cell_type": "code",
      "metadata": {
        "id": "eBmqfEXqar32",
        "colab_type": "code",
        "colab": {}
      },
      "source": [
        "DTYPE_RANGE = integer_ranges.copy()"
      ],
      "execution_count": 0,
      "outputs": []
    },
    {
      "cell_type": "code",
      "metadata": {
        "id": "8PWSs9YWavGl",
        "colab_type": "code",
        "outputId": "8e2587a8-4fd0-4038-99cb-768a13235b50",
        "colab": {
          "base_uri": "https://localhost:8080/",
          "height": 34
        }
      },
      "source": [
        "if \"<dtype: 'float16'>\" in DTYPE_RANGE:\n",
        "  print(\"yes\")"
      ],
      "execution_count": 0,
      "outputs": [
        {
          "output_type": "stream",
          "text": [
            "yes\n"
          ],
          "name": "stdout"
        }
      ]
    },
    {
      "cell_type": "code",
      "metadata": {
        "id": "_bDZTNPLMtjH",
        "colab_type": "code",
        "colab": {}
      },
      "source": [
        "def rescale(image,in_range='image', out_range='dtype'):\n",
        "  input_image = tf.constant(image)\n",
        "  sess = tf.InteractiveSession()\n",
        "  tf.global_variables_initializer().run()\n",
        "  type(input_image)\n",
        "  dtype = input_image.dtype\n",
        " # imin, imax = intensity_range(image, in_range)\n",
        "  #imin, imax = intensity_range(image, in_range)\n",
        "  #omin, omax = intensity_range(image, out_range, clip_negative=(imin >= 0))\n",
        "  imin, imax = intensity_range(input_image, in_range)\n",
        "  omin, omax = intensity_range(input_image,out_range,clip_negative=(imin.eval() >= 0))\n",
        "  print(\"Calculated omax, omin\")\n",
        "  image=tf.clip_by_value(\n",
        "    input_image,\n",
        "    imin,\n",
        "    imax,\n",
        "    name=None\n",
        ")\n",
        "  print(\"Clip is done\")\n",
        "  print(tf.math.subtract(imax ,imin))\n",
        "  image = tf.math.divide(tf.math.subtract(image ,imin), tf.math.subtract(imax ,imin))\n",
        "  \n",
        "  return (image * (omax - omin) + omin).eval()\n",
        "  \n",
        "  \n",
        "  "
      ],
      "execution_count": 0,
      "outputs": []
    },
    {
      "cell_type": "code",
      "metadata": {
        "id": "04e4V7gKQSXA",
        "colab_type": "code",
        "colab": {}
      },
      "source": [
        "def intensity_range(image, range_values='image', clip_negative=False):\n",
        "  if range_values == 'dtype':\n",
        "        range_values = image.dtype\n",
        "  if str(range_values) == 'image':\n",
        "        i_min = tf.reduce_min(image)\n",
        "        i_max = tf.reduce_max(image)\n",
        "  \n",
        "  elif str(range_values).strip(\"\") in DTYPE_RANGE:\n",
        "        i_min, i_max = DTYPE_RANGE[str(range_values).strip(\"\")]\n",
        "        if clip_negative:\n",
        "            i_min = 0\n",
        "  else:\n",
        "      i_min, i_max = range_values\n",
        "  return i_min, i_max"
      ],
      "execution_count": 0,
      "outputs": []
    },
    {
      "cell_type": "code",
      "metadata": {
        "id": "7Euxn5hEONZe",
        "colab_type": "code",
        "colab": {}
      },
      "source": [
        "image = np.array([51, 102, 153], dtype=np.float16)"
      ],
      "execution_count": 0,
      "outputs": []
    },
    {
      "cell_type": "code",
      "metadata": {
        "id": "FG3J1NMgs1ef",
        "colab_type": "code",
        "outputId": "e90c2e6d-6d43-4bda-a0e3-d4944bc4c054",
        "colab": {
          "base_uri": "https://localhost:8080/",
          "height": 138
        }
      },
      "source": [
        "rescale(image)"
      ],
      "execution_count": 0,
      "outputs": [
        {
          "output_type": "stream",
          "text": [
            "Calculated omax, omin\n",
            "Clip is done\n",
            "Tensor(\"Sub_15:0\", shape=(), dtype=float16)\n"
          ],
          "name": "stdout"
        },
        {
          "output_type": "stream",
          "text": [
            "/usr/local/lib/python3.6/dist-packages/tensorflow_core/python/client/session.py:1750: UserWarning: An interactive session is already active. This can cause out-of-memory errors in some cases. You must explicitly call `InteractiveSession.close()` to release resources held by the other session(s).\n",
            "  warnings.warn('An interactive session is already active. This can '\n"
          ],
          "name": "stderr"
        },
        {
          "output_type": "execute_result",
          "data": {
            "text/plain": [
              "array([0. , 0.5, 1. ], dtype=float16)"
            ]
          },
          "metadata": {
            "tags": []
          },
          "execution_count": 36
        }
      ]
    },
    {
      "cell_type": "code",
      "metadata": {
        "id": "sHnTJKf1ZmK-",
        "colab_type": "code",
        "outputId": "0aa15d23-9288-4b48-b62e-9449c40426bd",
        "colab": {
          "base_uri": "https://localhost:8080/",
          "height": 34
        }
      },
      "source": [
        "rescale_intensity(image)"
      ],
      "execution_count": 0,
      "outputs": [
        {
          "output_type": "execute_result",
          "data": {
            "text/plain": [
              "array([0. , 0.5, 1. ], dtype=float16)"
            ]
          },
          "metadata": {
            "tags": []
          },
          "execution_count": 37
        }
      ]
    },
    {
      "cell_type": "code",
      "metadata": {
        "id": "diHO_ID5Epn-",
        "colab_type": "code",
        "colab": {}
      },
      "source": [
        "from skimage import data\n",
        "camera = data.camera()\n",
        "camera=np.array(camera, dtype=np.float16)"
      ],
      "execution_count": 0,
      "outputs": []
    },
    {
      "cell_type": "code",
      "metadata": {
        "id": "spO_wgwqFLol",
        "colab_type": "code",
        "outputId": "148e32de-6aef-4006-e8ea-3ab426d609d1",
        "colab": {
          "base_uri": "https://localhost:8080/",
          "height": 121
        }
      },
      "source": [
        "my_function=rescale(camera)\n",
        "def_functin=rescale_intensity(camera)"
      ],
      "execution_count": 0,
      "outputs": [
        {
          "output_type": "stream",
          "text": [
            "Calculated omax, omin\n",
            "Clip is done\n",
            "Tensor(\"Sub_18:0\", shape=(), dtype=float16)\n"
          ],
          "name": "stdout"
        },
        {
          "output_type": "stream",
          "text": [
            "/usr/local/lib/python3.6/dist-packages/tensorflow_core/python/client/session.py:1750: UserWarning: An interactive session is already active. This can cause out-of-memory errors in some cases. You must explicitly call `InteractiveSession.close()` to release resources held by the other session(s).\n",
            "  warnings.warn('An interactive session is already active. This can '\n"
          ],
          "name": "stderr"
        }
      ]
    },
    {
      "cell_type": "code",
      "metadata": {
        "id": "wasTad-tFPwZ",
        "colab_type": "code",
        "outputId": "fb28607a-ee9a-4b07-c9db-d6b2f49f005b",
        "colab": {
          "base_uri": "https://localhost:8080/",
          "height": 134
        }
      },
      "source": [
        "my_function==def_functin"
      ],
      "execution_count": 0,
      "outputs": [
        {
          "output_type": "execute_result",
          "data": {
            "text/plain": [
              "array([[ True,  True,  True, ...,  True,  True,  True],\n",
              "       [ True,  True,  True, ...,  True,  True,  True],\n",
              "       [ True,  True,  True, ...,  True,  True,  True],\n",
              "       ...,\n",
              "       [ True,  True,  True, ...,  True,  True,  True],\n",
              "       [ True,  True,  True, ...,  True,  True,  True],\n",
              "       [ True,  True,  True, ...,  True,  True,  True]])"
            ]
          },
          "metadata": {
            "tags": []
          },
          "execution_count": 43
        }
      ]
    },
    {
      "cell_type": "code",
      "metadata": {
        "id": "AXFvkPD2FU7N",
        "colab_type": "code",
        "colab": {}
      },
      "source": [
        "def rescale_tf(image,in_range='image', out_range='dtype'):\n",
        "  dtype = input_image.dtype\n",
        " # imin, imax = intensity_range(image, in_range)\n",
        "  #imin, imax = intensity_range(image, in_range)\n",
        "  #omin, omax = intensity_range(image, out_range, clip_negative=(imin >= 0))\n",
        "  imin, imax = intensity_range(input_image, in_range)\n",
        "  omin, omax = intensity_range(input_image,out_range,clip_negative=(imin.eval() >= 0))\n",
        "  print(\"Calculated omax, omin\")\n",
        "  image=tf.clip_by_value(\n",
        "    input_image,\n",
        "    imin,\n",
        "    imax,\n",
        "    name=None\n",
        ")\n",
        "  print(\"Clip is done\")\n",
        "  print(tf.math.subtract(imax ,imin))\n",
        "  image = tf.math.divide(tf.math.subtract(image ,imin), tf.math.subtract(imax ,imin))\n",
        "  return (image * (omax - omin) + omin)"
      ],
      "execution_count": 0,
      "outputs": []
    },
    {
      "cell_type": "code",
      "metadata": {
        "id": "4AAcD0x0J9Bn",
        "colab_type": "code",
        "colab": {}
      },
      "source": [
        "from skimage import data\n",
        "camera = data.camera()\n",
        "camera=np.array(camera, dtype=np.float16)"
      ],
      "execution_count": 0,
      "outputs": []
    },
    {
      "cell_type": "code",
      "metadata": {
        "id": "bN7X1a_1J_D4",
        "colab_type": "code",
        "outputId": "1073b4d6-5487-4d28-82ac-ff7991bfd800",
        "colab": {
          "base_uri": "https://localhost:8080/",
          "height": 121
        }
      },
      "source": [
        "input_image = tf.constant(camera)\n",
        "sess = tf.InteractiveSession()\n",
        "tf.global_variables_initializer().run()\n",
        "out_put=rescale_tf(input_image)"
      ],
      "execution_count": 0,
      "outputs": [
        {
          "output_type": "stream",
          "text": [
            "Calculated omax, omin\n",
            "Clip is done\n",
            "Tensor(\"Sub_33:0\", shape=(), dtype=float16)\n"
          ],
          "name": "stdout"
        },
        {
          "output_type": "stream",
          "text": [
            "/usr/local/lib/python3.6/dist-packages/tensorflow_core/python/client/session.py:1750: UserWarning: An interactive session is already active. This can cause out-of-memory errors in some cases. You must explicitly call `InteractiveSession.close()` to release resources held by the other session(s).\n",
            "  warnings.warn('An interactive session is already active. This can '\n"
          ],
          "name": "stderr"
        }
      ]
    },
    {
      "cell_type": "code",
      "metadata": {
        "id": "NKJnLjthKGnd",
        "colab_type": "code",
        "colab": {}
      },
      "source": [
        "output_tf=out_put.eval()\n",
        "output_np=rescale_intensity(camera)"
      ],
      "execution_count": 0,
      "outputs": []
    },
    {
      "cell_type": "code",
      "metadata": {
        "id": "FsOHecrbKKez",
        "colab_type": "code",
        "outputId": "6ceb6d44-e9ea-4f9f-d085-e0920dfe7ad8",
        "colab": {
          "base_uri": "https://localhost:8080/",
          "height": 34
        }
      },
      "source": [
        "np.array_equal(output_tf,output_np)"
      ],
      "execution_count": 0,
      "outputs": [
        {
          "output_type": "execute_result",
          "data": {
            "text/plain": [
              "True"
            ]
          },
          "metadata": {
            "tags": []
          },
          "execution_count": 59
        }
      ]
    },
    {
      "cell_type": "code",
      "metadata": {
        "id": "L3TJrfAAwQIe",
        "colab_type": "code",
        "colab": {}
      },
      "source": [
        ""
      ],
      "execution_count": 0,
      "outputs": []
    }
  ]
}